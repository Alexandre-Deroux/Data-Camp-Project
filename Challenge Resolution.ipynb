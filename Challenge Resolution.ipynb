{
 "cells": [
  {
   "cell_type": "code",
   "execution_count": 1,
   "metadata": {},
   "outputs": [
    {
     "name": "stdout",
     "output_type": "stream",
     "text": [
      "Index(['annee', 'code_region', 'region', 'code_departement', 'departement',\n",
      "       'code_epci', 'epci', 'code_insee_commune', 'code_postal_commune',\n",
      "       'commune', 'production_principale', 'activites', 'code_activites',\n",
      "       'nombre_operateurs', 'code_groupe_surface',\n",
      "       'nombre_exploitations_surface', 'surface_terme_conversion',\n",
      "       'surface_conversion_annee_1', 'surface_conversion_annee_2',\n",
      "       'surface_conversion_annee_3', 'surface_totale_conversion',\n",
      "       'surface_totale_bio', 'code_groupe_cheptel',\n",
      "       'nombre_exploitations_cheptel', 'cheptel_terme_conversion',\n",
      "       'cheptel_conversion_simultanee', 'cheptel_conversion_non_simultanee',\n",
      "       'cheptel_total_bio'],\n",
      "      dtype='object')\n",
      "(2302370, 28)\n"
     ]
    }
   ],
   "source": [
    "import pandas as pd\n",
    "\n",
    "data = pd.read_csv('data_municipal_farming_areas_2008_2023_agencybio.csv', low_memory=False)\n",
    "\n",
    "print(data.columns)\n",
    "print(data.shape)"
   ]
  },
  {
   "cell_type": "code",
   "execution_count": 2,
   "metadata": {},
   "outputs": [
    {
     "name": "stdout",
     "output_type": "stream",
     "text": [
      "Accuracy: 0.80\n"
     ]
    }
   ],
   "source": [
    "from sklearn.preprocessing import LabelEncoder\n",
    "from sklearn.model_selection import train_test_split\n",
    "from sklearn.metrics import accuracy_score\n",
    "from xgboost import XGBClassifier\n",
    "\n",
    "X = data.drop(columns=[\"production_principale\", \"activites\", \"code_activites\"])\n",
    "y = data[\"code_activites\"]\n",
    "\n",
    "for col in X.select_dtypes(include=['object']).columns:\n",
    "    X[col] = X[col].astype(str)\n",
    "    X[col] = LabelEncoder().fit_transform(X[col])\n",
    "\n",
    "y = y.astype(\"category\").cat.codes\n",
    "\n",
    "X_train, X_test, y_train, y_test = train_test_split(X, y, test_size=0.2, random_state=42, stratify=y)\n",
    "\n",
    "model = XGBClassifier(eval_metric=\"mlogloss\", random_state=42)\n",
    "model.fit(X_train, y_train)\n",
    "\n",
    "y_pred = model.predict(X_test)\n",
    "\n",
    "accuracy = accuracy_score(y_test, y_pred)\n",
    "print(f\"Accuracy: {accuracy:.2f}\")"
   ]
  }
 ],
 "metadata": {
  "kernelspec": {
   "display_name": "Python 3",
   "language": "python",
   "name": "python3"
  },
  "language_info": {
   "codemirror_mode": {
    "name": "ipython",
    "version": 3
   },
   "file_extension": ".py",
   "mimetype": "text/x-python",
   "name": "python",
   "nbconvert_exporter": "python",
   "pygments_lexer": "ipython3",
   "version": "3.13.0"
  }
 },
 "nbformat": 4,
 "nbformat_minor": 2
}
